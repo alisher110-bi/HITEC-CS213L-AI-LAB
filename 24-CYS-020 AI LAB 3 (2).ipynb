{
 "cells": [
  {
   "cell_type": "code",
   "execution_count": 1,
   "id": "cc9dfd33",
   "metadata": {},
   "outputs": [
    {
     "name": "stdout",
     "output_type": "stream",
     "text": [
      "Factorial of 2 is: 2\n"
     ]
    }
   ],
   "source": [
    "def factorial(num):\n",
    "    fact = 1\n",
    "    for i in range(1, num + 1):\n",
    "        fact = fact * i\n",
    "    return fact\n",
    "n = int(input(\"Enter a number: \"))\n",
    "print(\"Factorial of\", n, \"is:\", factorial(n))"
   ]
  },
  {
   "cell_type": "code",
   "execution_count": null,
   "id": "6c96327d",
   "metadata": {},
   "outputs": [],
   "source": [
    "def unique_list(lst):\n",
    "    new_list = []\n",
    "    for i in lst:\n",
    "        if i not in new_list:\n",
    "            new_list.append(i)\n",
    "    return new_list\n",
    "samplelist = [1, 2, 3, 3, 4, 4, 5, 3, 7, 5]\n",
    "print(\"Unique List:\", uniquelist(samplelist))\n"
   ]
  }
 ],
 "metadata": {
  "kernelspec": {
   "display_name": "Python 3",
   "language": "python",
   "name": "python3"
  },
  "language_info": {
   "codemirror_mode": {
    "name": "ipython",
    "version": 3
   },
   "file_extension": ".py",
   "mimetype": "text/x-python",
   "name": "python",
   "nbconvert_exporter": "python",
   "pygments_lexer": "ipython3",
   "version": "3.14.0"
  }
 },
 "nbformat": 4,
 "nbformat_minor": 5
}
